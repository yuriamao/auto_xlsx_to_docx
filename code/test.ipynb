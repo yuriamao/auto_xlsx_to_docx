{
 "cells": [
  {
   "cell_type": "code",
   "execution_count": 1,
   "metadata": {},
   "outputs": [
    {
     "name": "stdout",
     "output_type": "stream",
     "text": [
      "/Users/harvin/.matplotlib\n"
     ]
    }
   ],
   "source": [
    "import matplotlib as mpl\n",
    "print(mpl.get_cachedir())"
   ]
  },
  {
   "cell_type": "markdown",
   "metadata": {},
   "source": [
    "rm -r /Users/harvin/.matplotlib"
   ]
  },
  {
   "cell_type": "code",
   "execution_count": 2,
   "metadata": {},
   "outputs": [
    {
     "name": "stderr",
     "output_type": "stream",
     "text": [
      "findfont: Generic family 'sans-serif' not found because none of the following families were found: STFangsong\n",
      "findfont: Generic family 'sans-serif' not found because none of the following families were found: STFangsong\n",
      "findfont: Generic family 'sans-serif' not found because none of the following families were found: STFangsong\n",
      "findfont: Generic family 'sans-serif' not found because none of the following families were found: STFangsong\n",
      "findfont: Generic family 'sans-serif' not found because none of the following families were found: STFangsong\n",
      "findfont: Generic family 'sans-serif' not found because none of the following families were found: STFangsong\n",
      "findfont: Generic family 'sans-serif' not found because none of the following families were found: STFangsong\n",
      "findfont: Generic family 'sans-serif' not found because none of the following families were found: STFangsong\n",
      "findfont: Generic family 'sans-serif' not found because none of the following families were found: STFangsong\n",
      "findfont: Generic family 'sans-serif' not found because none of the following families were found: STFangsong\n",
      "findfont: Generic family 'sans-serif' not found because none of the following families were found: STFangsong\n",
      "findfont: Generic family 'sans-serif' not found because none of the following families were found: STFangsong\n",
      "/Users/harvin/miniconda3/envs/py39docx/lib/python3.9/site-packages/IPython/core/pylabtools.py:152: UserWarning: Glyph 19968 (\\N{CJK UNIFIED IDEOGRAPH-4E00}) missing from current font.\n",
      "  fig.canvas.print_figure(bytes_io, **kw)\n",
      "findfont: Generic family 'sans-serif' not found because none of the following families were found: STFangsong\n",
      "/Users/harvin/miniconda3/envs/py39docx/lib/python3.9/site-packages/IPython/core/pylabtools.py:152: UserWarning: Glyph 20108 (\\N{CJK UNIFIED IDEOGRAPH-4E8C}) missing from current font.\n",
      "  fig.canvas.print_figure(bytes_io, **kw)\n",
      "findfont: Generic family 'sans-serif' not found because none of the following families were found: STFangsong\n",
      "/Users/harvin/miniconda3/envs/py39docx/lib/python3.9/site-packages/IPython/core/pylabtools.py:152: UserWarning: Glyph 19977 (\\N{CJK UNIFIED IDEOGRAPH-4E09}) missing from current font.\n",
      "  fig.canvas.print_figure(bytes_io, **kw)\n",
      "findfont: Generic family 'sans-serif' not found because none of the following families were found: STFangsong\n",
      "/Users/harvin/miniconda3/envs/py39docx/lib/python3.9/site-packages/IPython/core/pylabtools.py:152: UserWarning: Glyph 22235 (\\N{CJK UNIFIED IDEOGRAPH-56DB}) missing from current font.\n",
      "  fig.canvas.print_figure(bytes_io, **kw)\n",
      "findfont: Generic family 'sans-serif' not found because none of the following families were found: STFangsong\n",
      "findfont: Generic family 'sans-serif' not found because none of the following families were found: STFangsong\n",
      "findfont: Generic family 'sans-serif' not found because none of the following families were found: STFangsong\n",
      "findfont: Generic family 'sans-serif' not found because none of the following families were found: STFangsong\n",
      "findfont: Generic family 'sans-serif' not found because none of the following families were found: STFangsong\n",
      "findfont: Generic family 'sans-serif' not found because none of the following families were found: STFangsong\n",
      "findfont: Generic family 'sans-serif' not found because none of the following families were found: STFangsong\n",
      "findfont: Generic family 'sans-serif' not found because none of the following families were found: STFangsong\n",
      "findfont: Generic family 'sans-serif' not found because none of the following families were found: STFangsong\n",
      "findfont: Generic family 'sans-serif' not found because none of the following families were found: STFangsong\n",
      "findfont: Generic family 'sans-serif' not found because none of the following families were found: STFangsong\n",
      "findfont: Generic family 'sans-serif' not found because none of the following families were found: STFangsong\n",
      "findfont: Generic family 'sans-serif' not found because none of the following families were found: STFangsong\n",
      "findfont: Generic family 'sans-serif' not found because none of the following families were found: STFangsong\n",
      "findfont: Generic family 'sans-serif' not found because none of the following families were found: STFangsong\n",
      "findfont: Generic family 'sans-serif' not found because none of the following families were found: STFangsong\n",
      "findfont: Generic family 'sans-serif' not found because none of the following families were found: STFangsong\n",
      "findfont: Generic family 'sans-serif' not found because none of the following families were found: STFangsong\n",
      "findfont: Generic family 'sans-serif' not found because none of the following families were found: STFangsong\n",
      "findfont: Generic family 'sans-serif' not found because none of the following families were found: STFangsong\n",
      "findfont: Generic family 'sans-serif' not found because none of the following families were found: STFangsong\n",
      "findfont: Generic family 'sans-serif' not found because none of the following families were found: STFangsong\n",
      "findfont: Generic family 'sans-serif' not found because none of the following families were found: STFangsong\n",
      "findfont: Generic family 'sans-serif' not found because none of the following families were found: STFangsong\n",
      "findfont: Generic family 'sans-serif' not found because none of the following families were found: STFangsong\n",
      "findfont: Generic family 'sans-serif' not found because none of the following families were found: STFangsong\n",
      "findfont: Generic family 'sans-serif' not found because none of the following families were found: STFangsong\n",
      "findfont: Generic family 'sans-serif' not found because none of the following families were found: STFangsong\n"
     ]
    },
    {
     "data": {
      "image/png": "[encoded data removed]",
      "text/plain": [
       "<Figure size 640x480 with 1 Axes>"
      ]
     },
     "metadata": {},
     "output_type": "display_data"
    }
   ],
   "source": [
    "import matplotlib.pyplot as plt\n",
    "from matplotlib.font_manager import FontProperties\n",
    "\n",
    "# 设置中文显示\n",
    "font = FontProperties(fname=r\"/Users/harvin/code/自动报告产品开发-产业链@20220830/data/华文仿宋.ttf\")\n",
    "plt.rcParams['font.sans-serif'] = [font.get_name()]\n",
    "plt.rcParams['axes.unicode_minus'] = False\n",
    "\n",
    "\n",
    "a = ['一', '二', '三', '四']\n",
    "b = [15, 9, 20, 40]\n",
    "plt.barh(a, b)\n",
    "plt.yticks(fontsize=15)\n",
    "plt.show()"
   ]
  }
 ],
 "metadata": {
  "kernelspec": {
   "display_name": "py39docx",
   "language": "python",
   "name": "python3"
  },
  "language_info": {
   "codemirror_mode": {
    "name": "ipython",
    "version": 3
   },
   "file_extension": ".py",
   "mimetype": "text/x-python",
   "name": "python",
   "nbconvert_exporter": "python",
   "pygments_lexer": "ipython3",
   "version": "3.9.17"
  }
 },
 "nbformat": 4,
 "nbformat_minor": 2
}
