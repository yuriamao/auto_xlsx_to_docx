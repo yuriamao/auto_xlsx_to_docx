{
 "cells": [
  {
   "cell_type": "code",
   "execution_count": 1,
   "metadata": {},
   "outputs": [
    {
     "name": "stderr",
     "output_type": "stream",
     "text": [
      "/Users/harvin/miniconda3/envs/py39docx/lib/python3.9/site-packages/fuzzywuzzy/fuzz.py:11: UserWarning: Using slow pure-python SequenceMatcher. Install python-Levenshtein to remove this warning\n",
      "  warnings.warn('Using slow pure-python SequenceMatcher. Install python-Levenshtein to remove this warning')\n"
     ]
    },
    {
     "name": "stdout",
     "output_type": "stream",
     "text": [
      "/Users/harvin/code/自动报告产品开发-产业链@20220830/data/output/1/信息软件业招聘岗位数分析报告202307.docx\n"
     ]
    },
    {
     "name": "stderr",
     "output_type": "stream",
     "text": [
      "  0%|          | 0/8 [00:00<?, ?it/s]\n"
     ]
    },
    {
     "ename": "NameError",
     "evalue": "name 'generate_horizontal_bar_chart' is not defined",
     "output_type": "error",
     "traceback": [
      "\u001b[0;31m---------------------------------------------------------------------------\u001b[0m",
      "\u001b[0;31mNameError\u001b[0m                                 Traceback (most recent call last)",
      "\u001b[1;32m/Users/harvin/code/自动报告产品开发-产业链@20220830/code/touzi_test.ipynb 单元格 1\u001b[0m line \u001b[0;36m3\n\u001b[1;32m     <a href='vscode-notebook-cell:/Users/harvin/code/%E8%87%AA%E5%8A%A8%E6%8A%A5%E5%91%8A%E4%BA%A7%E5%93%81%E5%BC%80%E5%8F%91-%E4%BA%A7%E4%B8%9A%E9%93%BE%4020220830/code/touzi_test.ipynb#W0sZmlsZQ%3D%3D?line=25'>26</a>\u001b[0m         generate_report(t,data_path,output_image_path)\n\u001b[1;32m     <a href='vscode-notebook-cell:/Users/harvin/code/%E8%87%AA%E5%8A%A8%E6%8A%A5%E5%91%8A%E4%BA%A7%E5%93%81%E5%BC%80%E5%8F%91-%E4%BA%A7%E4%B8%9A%E9%93%BE%4020220830/code/touzi_test.ipynb#W0sZmlsZQ%3D%3D?line=27'>28</a>\u001b[0m \u001b[39mif\u001b[39;00m \u001b[39m__name__\u001b[39m \u001b[39m==\u001b[39m \u001b[39m\"\u001b[39m\u001b[39m__main__\u001b[39m\u001b[39m\"\u001b[39m:\n\u001b[1;32m     <a href='vscode-notebook-cell:/Users/harvin/code/%E8%87%AA%E5%8A%A8%E6%8A%A5%E5%91%8A%E4%BA%A7%E5%93%81%E5%BC%80%E5%8F%91-%E4%BA%A7%E4%B8%9A%E9%93%BE%4020220830/code/touzi_test.ipynb#W0sZmlsZQ%3D%3D?line=28'>29</a>\u001b[0m     \u001b[39m# 执行 main 函数\u001b[39;00m\n\u001b[0;32m---> <a href='vscode-notebook-cell:/Users/harvin/code/%E8%87%AA%E5%8A%A8%E6%8A%A5%E5%91%8A%E4%BA%A7%E5%93%81%E5%BC%80%E5%8F%91-%E4%BA%A7%E4%B8%9A%E9%93%BE%4020220830/code/touzi_test.ipynb#W0sZmlsZQ%3D%3D?line=29'>30</a>\u001b[0m     main()\n",
      "\u001b[1;32m/Users/harvin/code/自动报告产品开发-产业链@20220830/code/touzi_test.ipynb 单元格 1\u001b[0m line \u001b[0;36m2\n\u001b[1;32m     <a href='vscode-notebook-cell:/Users/harvin/code/%E8%87%AA%E5%8A%A8%E6%8A%A5%E5%91%8A%E4%BA%A7%E5%93%81%E5%BC%80%E5%8F%91-%E4%BA%A7%E4%B8%9A%E9%93%BE%4020220830/code/touzi_test.ipynb#W0sZmlsZQ%3D%3D?line=22'>23</a>\u001b[0m     m\u001b[39m=\u001b[39m\u001b[39mstr\u001b[39m(i)\n\u001b[1;32m     <a href='vscode-notebook-cell:/Users/harvin/code/%E8%87%AA%E5%8A%A8%E6%8A%A5%E5%91%8A%E4%BA%A7%E5%93%81%E5%BC%80%E5%8F%91-%E4%BA%A7%E4%B8%9A%E9%93%BE%4020220830/code/touzi_test.ipynb#W0sZmlsZQ%3D%3D?line=23'>24</a>\u001b[0m t\u001b[39m=\u001b[39m\u001b[39mstr\u001b[39m(end_year)\u001b[39m+\u001b[39mm\n\u001b[0;32m---> <a href='vscode-notebook-cell:/Users/harvin/code/%E8%87%AA%E5%8A%A8%E6%8A%A5%E5%91%8A%E4%BA%A7%E5%93%81%E5%BC%80%E5%8F%91-%E4%BA%A7%E4%B8%9A%E9%93%BE%4020220830/code/touzi_test.ipynb#W0sZmlsZQ%3D%3D?line=24'>25</a>\u001b[0m generate_horizontal_bar_chart(t, data_path,output_path\u001b[39m=\u001b[39moutput_image_path)\n\u001b[1;32m     <a href='vscode-notebook-cell:/Users/harvin/code/%E8%87%AA%E5%8A%A8%E6%8A%A5%E5%91%8A%E4%BA%A7%E5%93%81%E5%BC%80%E5%8F%91-%E4%BA%A7%E4%B8%9A%E9%93%BE%4020220830/code/touzi_test.ipynb#W0sZmlsZQ%3D%3D?line=25'>26</a>\u001b[0m generate_report(t,data_path,output_image_path)\n",
      "\u001b[0;31mNameError\u001b[0m: name 'generate_horizontal_bar_chart' is not defined"
     ]
    }
   ],
   "source": [
    "import pandas as pd\n",
    "from fuzzywuzzy import process\n",
    "from docx import Document\n",
    "from docx.shared import Pt\n",
    "import matplotlib.pyplot as plt\n",
    "from tqdm import tqdm\n",
    "from utils import *\n",
    "from io import BytesIO\n",
    "import matplotlib.dates as mdates\n",
    "import matplotlib.patches as mpatches\n",
    "\n",
    "generate_report('202308',data_path,output_image_path)\n",
    "\n",
    "def main():\n",
    "    data_path = '/Users/harvin/code/自动报告产品开发-产业链@20220830/自动报告产品开发_新增图表插入231123/data/指标数据20231123.xlsx'\n",
    "    output_image_path = '/Users/harvin/code/自动报告产品开发-产业链@20220830/data/chart_投资_2022_nov.png'\n",
    "    start_m=3\n",
    "    end_year,end_m=2023,10\n",
    "    end_m+=1\n",
    "    \n",
    "    for i in tqdm(range(start_m,end_m)):\n",
    "        if i<10 and len(str(i))<2:\n",
    "            m='0'+str(i)\n",
    "        else:\n",
    "            m=str(i)\n",
    "        t=str(end_year)+m\n",
    "        generate_horizontal_bar_chart(t, data_path,output_path=output_image_path)\n",
    "        generate_report(t,data_path,output_image_path)\n",
    "\n",
    "if __name__ == \"__main__\":\n",
    "    # 执行 main 函数\n",
    "    main()"
   ]
  },
  {
   "cell_type": "code",
   "execution_count": 2,
   "metadata": {},
   "outputs": [
    {
     "name": "stdout",
     "output_type": "stream",
     "text": [
      "['__array__', '__class__', '__delattr__', '__dict__', '__dir__', '__doc__', '__eq__', '__format__', '__ge__', '__getattribute__', '__gt__', '__hash__', '__init__', '__init_subclass__', '__le__', '__lt__', '__module__', '__ne__', '__new__', '__reduce__', '__reduce_ex__', '__repr__', '__setattr__', '__sizeof__', '__str__', '__subclasshook__', '__weakref__', '_check_generated', '_draw_contour', '_get_bolean_mask', 'fit_words', 'generate', 'generate_from_frequencies', 'generate_from_text', 'process_text', 'recolor', 'to_array', 'to_file', 'to_image', 'to_svg']\n"
     ]
    }
   ],
   "source": [
    "from wordcloud import WordCloud\n",
    "print(dir(WordCloud))"
   ]
  }
 ],
 "metadata": {
  "kernelspec": {
   "display_name": "py39docx",
   "language": "python",
   "name": "python3"
  },
  "language_info": {
   "codemirror_mode": {
    "name": "ipython",
    "version": 3
   },
   "file_extension": ".py",
   "mimetype": "text/x-python",
   "name": "python",
   "nbconvert_exporter": "python",
   "pygments_lexer": "ipython3",
   "version": "3.9.17"
  }
 },
 "nbformat": 4,
 "nbformat_minor": 2
}
